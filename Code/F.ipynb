{
 "cells": [
  {
   "cell_type": "code",
   "execution_count": 3,
   "id": "66668ca8-b73c-4a11-ba2c-ce3e603ce9b0",
   "metadata": {},
   "outputs": [
    {
     "name": "stdin",
     "output_type": "stream",
     "text": [
      " 4 3\n",
      " yr.\n",
      " ..b\n",
      " ry.\n",
      " b..\n",
      " \n",
      " ...\n",
      " ..b\n",
      " .ry\n",
      " byb\n"
     ]
    },
    {
     "name": "stdout",
     "output_type": "stream",
     "text": [
      "no\n"
     ]
    }
   ],
   "source": [
    "def tilt_grid(grid, direction):\n",
    "    h, w = len(grid), len(grid[0])\n",
    "    new_grid = [['.'] * w for _ in range(h)]\n",
    "    \n",
    "    if direction == 'left':\n",
    "        for i in range(h):\n",
    "            index = 0\n",
    "            for j in range(w):\n",
    "                if grid[i][j] != '.':\n",
    "                    new_grid[i][index] = grid[i][j]\n",
    "                    index += 1\n",
    "                    \n",
    "    elif direction == 'right':\n",
    "        for i in range(h):\n",
    "            index = w - 1\n",
    "            for j in range(w-1, -1, -1):\n",
    "                if grid[i][j] != '.':\n",
    "                    new_grid[i][index] = grid[i][j]\n",
    "                    index -= 1\n",
    "                    \n",
    "    elif direction == 'up':\n",
    "        for j in range(w):\n",
    "            index = 0\n",
    "            for i in range(h):\n",
    "                if grid[i][j] != '.':\n",
    "                    new_grid[index][j] = grid[i][j]\n",
    "                    index += 1\n",
    "                    \n",
    "    elif direction == 'down':\n",
    "        for j in range(w):\n",
    "            index = h - 1\n",
    "            for i in range(h-1, -1, -1):\n",
    "                if grid[i][j] != '.':\n",
    "                    new_grid[index][j] = grid[i][j]\n",
    "                    index -= 1\n",
    "    \n",
    "    return new_grid\n",
    "\n",
    "\n",
    "def grids_equal(grid1, grid2):\n",
    "    return all(grid1[i] == grid2[i] for i in range(len(grid1)))\n",
    "\n",
    "\n",
    "def solve_tilting_tiles():\n",
    "    # Input reading\n",
    "    h, w = map(int, input().strip().split())\n",
    "    start_grid = [list(input().strip()) for _ in range(h)]\n",
    "    input()  # Empty line\n",
    "    end_grid = [list(input().strip()) for _ in range(h)]\n",
    "\n",
    "    # BFS for finding transformation\n",
    "    from collections import deque\n",
    "\n",
    "    directions = ['left', 'right', 'up', 'down']\n",
    "    queue = deque([start_grid])\n",
    "    visited = set()\n",
    "    visited.add(tuple(tuple(row) for row in start_grid))\n",
    "\n",
    "    while queue:\n",
    "        current = queue.popleft()\n",
    "        if grids_equal(current, end_grid):\n",
    "            print(\"yes\")\n",
    "            return\n",
    "\n",
    "        for direction in directions:\n",
    "            next_grid = tilt_grid(current, direction)\n",
    "            grid_tuple = tuple(tuple(row) for row in next_grid)\n",
    "            if grid_tuple not in visited:\n",
    "                visited.add(grid_tuple)\n",
    "                queue.append(next_grid)\n",
    "\n",
    "    print(\"no\")\n",
    "\n",
    "\n",
    "# Run the solution\n",
    "solve_tilting_tiles()\n"
   ]
  },
  {
   "cell_type": "code",
   "execution_count": null,
   "id": "ee211274-3403-4073-9cf4-abae148b1bc1",
   "metadata": {},
   "outputs": [],
   "source": []
  }
 ],
 "metadata": {
  "kernelspec": {
   "display_name": "Python 3 (ipykernel)",
   "language": "python",
   "name": "python3"
  },
  "language_info": {
   "codemirror_mode": {
    "name": "ipython",
    "version": 3
   },
   "file_extension": ".py",
   "mimetype": "text/x-python",
   "name": "python",
   "nbconvert_exporter": "python",
   "pygments_lexer": "ipython3",
   "version": "3.11.5"
  }
 },
 "nbformat": 4,
 "nbformat_minor": 5
}
